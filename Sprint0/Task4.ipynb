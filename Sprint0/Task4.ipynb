{
 "cells": [
  {
   "cell_type": "code",
   "execution_count": 21,
   "metadata": {
    "dotnet_interactive": {
     "language": "csharp"
    },
    "polyglot_notebook": {
     "kernelName": "csharp"
    }
   },
   "outputs": [
    {
     "name": "stdout",
     "output_type": "stream",
     "text": [
      "Растение Роза, типа Шиповник, высотой 65 сантиметров\n",
      "Растение Роза, типа Шиповник, высотой 65 сантиметров, цвета Белый и с 20 липестками растет и радует глаз\n",
      "Растение Роза, типа Шиповник, высотой 65 сантиметров, цвета Белый и с 20 липестками увядает\n",
      "Дерево Роза, типа Шиповник, высотой 65 дециметров и возрастом 354 лет с Хвойные типом листьев растет\n",
      "Дерево Роза, типа Шиповник, высотой 65 дециметров стало старше на 52 лет , теперь ему 406 лет\n"
     ]
    }
   ],
   "source": [
    "public class Plant\n",
    "{\n",
    "    public string Name {get;set;}\n",
    "    public string Type {get;set;}\n",
    "    public float H {get;set;}\n",
    "    public Plant(string name,string type, float h)\n",
    "    {\n",
    "        Name = name ;\n",
    "        Type =type ;\n",
    "        H=h;\n",
    "    }\n",
    "    \n",
    "    public  virtual string Bloom ()\n",
    "    {\n",
    "        return $\"Растение {Name}, типа {Type}, высотой {H} сантиметров\";\n",
    "    }\n",
    "    public virtual float Grow(float newH)\n",
    "    {\n",
    "        return H += newH;\n",
    "    }\n",
    "}\n",
    "\n",
    "public class Flower : Plant \n",
    "\n",
    "{\n",
    "    public string Color {get;set;}\n",
    "    public int Count {get;set;}\n",
    "    public Flower (string name, string type , float h, string color, int count ): base (name,type,h)\n",
    "    {\n",
    "        Color = color;\n",
    "        Count = count;\n",
    "    }\n",
    "\n",
    "    public override string Bloom()\n",
    "    {\n",
    "        return base.Bloom() + $\", цвета {Color} и с {Count} липестками растет и радует глаз\";\n",
    "    }\n",
    "\n",
    "\n",
    "    public string Fade()\n",
    "    {\n",
    "        return base.Bloom() + $\", цвета {Color} и с {Count} липестками увядает\";\n",
    "    }\n",
    "}\n",
    "\n",
    "public class Tree: Plant \n",
    "\n",
    "{\n",
    "    public int Age {get;set;}\n",
    "    public string TypeList {get;set;}\n",
    "\n",
    "    public Tree (string name ,string type, float h, int age, string typelist) : base (name,type , h)\n",
    "    {\n",
    "        Age = age;\n",
    "        TypeList = typelist;\n",
    "    }\n",
    "\n",
    "    public override string Bloom()\n",
    "    {\n",
    "        return $\"Дерево {Name}, типа {Type}, высотой {H} дециметров и возрастом {Age} лет с {TypeList} типом листьев растет\";\n",
    "    }\n",
    "    public string NewAge(int newAge)\n",
    "    {\n",
    "        Age += newAge;\n",
    "        return $\"Дерево {Name}, типа {Type}, высотой {H} дециметров стало старше на {newAge} лет , теперь ему {Age} лет\";\n",
    "    }\n",
    "}\n",
    "\n",
    "string name = \"Роза\";\n",
    "string type = \"Шиповник\";\n",
    "float h = 65;\n",
    "\n",
    "Plant plant = new Plant(name,type,h);\n",
    "Console.WriteLine(plant.Bloom());\n",
    "\n",
    "string color = \"Белый\";\n",
    "int count = 20;\n",
    "\n",
    "Flower flower = new Flower(name,type,h,color,count);\n",
    "Console.WriteLine(flower.Bloom());\n",
    "Console.WriteLine(flower.Fade());\n",
    "int age = 354;\n",
    "string typelist = \"Хвойные\";\n",
    "Tree tree = new Tree(name,type,h,age,typelist);\n",
    "int newAge = 52;\n",
    "Console.WriteLine(tree.Bloom());\n",
    "Console.WriteLine(tree.NewAge(newAge));"
   ]
  }
 ],
 "metadata": {
  "kernelspec": {
   "display_name": ".NET (C#)",
   "language": "C#",
   "name": ".net-csharp"
  },
  "polyglot_notebook": {
   "kernelInfo": {
    "defaultKernelName": "csharp",
    "items": [
     {
      "aliases": [],
      "languageName": "csharp",
      "name": "csharp"
     }
    ]
   }
  }
 },
 "nbformat": 4,
 "nbformat_minor": 2
}
