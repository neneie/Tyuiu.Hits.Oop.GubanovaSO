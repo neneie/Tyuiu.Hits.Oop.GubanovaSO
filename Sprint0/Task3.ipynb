{
 "cells": [
  {
   "cell_type": "markdown",
   "metadata": {},
   "source": [
    "<h1 style=\"color:DodgerBlue\">Индивидальный проект</h1>"
   ]
  },
  {
   "cell_type": "markdown",
   "metadata": {},
   "source": [
    "<h2 style=\"color:DodgerBlue\">Название проекта:</h2>\n",
    "\n",
    "----\n",
    "\n",
    "### Вариант задания \n"
   ]
  },
  {
   "cell_type": "markdown",
   "metadata": {},
   "source": [
    "<h2 style=\"color:DodgerBlue\">Описание проекта:</h2>\n",
    "\n",
    "Описание задачи:\n",
    "Создать базовый класс Order в C#, который будет представлять информацию о\n",
    "заказах товаров или услуг. На основе этого класса разработать 2-3 производных\n",
    "класса, демонстрирующих принципы наследования и полиморфизма. В каждом из\n",
    "классов должны быть реализованы новые атрибуты и методы, а также\n",
    "переопределены некоторые методы базового класса для демонстрации\n",
    "полиморфизма.\n",
    "\n",
    "Требования к базовому классу Order:\n",
    "\n",
    "• Атрибуты: ID заказа (OrderId), Дата создания (CreationDate), Сумма заказа\n",
    "(TotalAmount).\n",
    "\n",
    "• Методы:\n",
    "\n",
    "o CalculateTotal(): метод для расчета общей суммы заказа.\n",
    "o AddItem(Item item): метод для добавления элемента в заказ.\n",
    "o RemoveItem(Item item): метод для удаления элемента из заказа.\n",
    "\n",
    "Требования к производным классам:\n",
    "1. ОнлайнЗаказ (OnlineOrder): Должен содержать дополнительные атрибуты,\n",
    "такие как Email клиента (CustomerEmail). Метод AddItem() должен быть\n",
    "переопределен для добавления информации о способе доставки при\n",
    "добавлении элемента.\n",
    "\n",
    "2. ФизическийЗаказ (PhysicalOrder): Должен содержать дополнительные\n",
    "атрибуты, такие как Адрес доставки (DeliveryAddress).\n",
    "Метод RemoveItem() должен быть переопределен для добавления\n",
    "информации о возврате товара при удалении элемента.\n",
    "\n",
    "3. СпециализированныйЗаказ (SpecializedOrder) (если требуется третий класс):\n",
    "Должен содержать дополнительные атрибуты, такие как Специальные\n",
    "условия (SpecialConditions). Метод CalculateTotal() должен быть\n",
    "переопределен для учета специальных условий при расчете общей суммы\n",
    "заказа.\n"
   ]
  },
  {
   "cell_type": "markdown",
   "metadata": {},
   "source": [
    "<h2 style=\"color:DodgerBlue\">Реализация:</h2>\n",
    "\n",
    "----"
   ]
  },
  {
   "cell_type": "code",
   "execution_count": 2,
   "metadata": {
    "dotnet_interactive": {
     "language": "csharp"
    },
    "polyglot_notebook": {
     "kernelName": "csharp"
    }
   },
   "outputs": [],
   "source": [
    "using System;\n",
    "using System.Collections.Generic;\n",
    "\n",
    "// Добавляем недостающий класс Item\n",
    "public class Item\n",
    "{\n",
    "    public string Name { get; set; }\n",
    "    public decimal Price { get; set; }\n",
    "}\n",
    "\n",
    "public class Order\n",
    "{\n",
    "    public int OrderId { get; set; }\n",
    "    public DateTime CreationDate { get; set; }\n",
    "    public decimal TotalAmount { get; set; }\n",
    "    protected List<Item> items;\n",
    "\n",
    "    public Order()\n",
    "    {\n",
    "        items = new List<Item>();\n",
    "        CreationDate = DateTime.Now;\n",
    "    }\n",
    "\n",
    "    public virtual void AddItem(Item item)\n",
    "    {\n",
    "        items.Add(item);\n",
    "        CalculateTotal();\n",
    "    }\n",
    "\n",
    "    public virtual void RemoveItem(Item item)\n",
    "    {\n",
    "        items.Remove(item);\n",
    "        CalculateTotal();\n",
    "    }\n",
    "\n",
    "    public virtual void CalculateTotal()\n",
    "    {\n",
    "        TotalAmount = 0;\n",
    "        foreach (var item in items)\n",
    "        {\n",
    "            TotalAmount += item.Price;\n",
    "        }\n",
    "    }\n",
    "}"
   ]
  }
 ],
 "metadata": {
  "kernelspec": {
   "display_name": ".NET (C#)",
   "language": "C#",
   "name": ".net-csharp"
  },
  "polyglot_notebook": {
   "kernelInfo": {
    "defaultKernelName": "csharp",
    "items": [
     {
      "aliases": [],
      "languageName": "csharp",
      "name": "csharp"
     }
    ]
   }
  }
 },
 "nbformat": 4,
 "nbformat_minor": 2
}
